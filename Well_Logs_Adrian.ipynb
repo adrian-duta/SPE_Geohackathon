{
 "cells": [
  {
   "cell_type": "markdown",
   "metadata": {},
   "source": [
    "## Well Logs - Porosity and permeability calculation"
   ]
  },
  {
   "cell_type": "code",
   "execution_count": null,
   "metadata": {},
   "outputs": [],
   "source": [
    "# import the needed libraries\n",
    "import pandas as pd\n",
    "import matplotlib.pyplot as plt"
   ]
  },
  {
   "cell_type": "markdown",
   "metadata": {},
   "source": [
    "### First, I calculate porosity for the P02 well and then I will build a function to calculate the same for all the wells"
   ]
  },
  {
   "cell_type": "code",
   "execution_count": null,
   "metadata": {},
   "outputs": [],
   "source": [
    "# Loading the data from the txt file for the well P02\n",
    "df = pd.read_csv('logs/P02_welllogs.txt', header = 3, sep = '\\t') \n",
    "df.head(10)"
   ]
  },
  {
   "cell_type": "markdown",
   "metadata": {},
   "source": [
    "### Assumptions:\n",
    "\n",
    "1) As Saikumar said, the values they provided in logs are in \"micronsec/meter\" but they mentioned it ad micron/sec.\n",
    "\n",
    "2) The lithology is shale "
   ]
  },
  {
   "cell_type": "code",
   "execution_count": null,
   "metadata": {},
   "outputs": [],
   "source": [
    "# rename the column title unit to microsec/meter\n",
    "df = df.rename(columns={'depth(m)':'Depth [m]', ' transit time (micron/sec)':'Transit time [microsec/meter]'})\n",
    "df.head(10)"
   ]
  },
  {
   "cell_type": "code",
   "execution_count": null,
   "metadata": {},
   "outputs": [],
   "source": [
    "# build the Transit time column in microsec/fet\n",
    "df[\"Transit time [microsec/ft]\"] = df[\"Transit time [microsec/meter]\"]/3.2808399\n",
    "df.head()"
   ]
  },
  {
   "cell_type": "code",
   "execution_count": null,
   "metadata": {},
   "outputs": [],
   "source": [
    "# built the Vp\n",
    "df[\"Vp [ft/sec]\"] = (1/df[\"Transit time [microsec/ft]\"])*10**6\n",
    "df.head()"
   ]
  },
  {
   "cell_type": "markdown",
   "metadata": {},
   "source": [
    "### Calculate the Porosity based on the Wyllie formula; \n",
    "### Assumptions: Shale\t∆tma\t60 μsec/ft\t\n",
    "###                          Brine\t∆tp\t    180,5 μsec/ft\t\n",
    "\n",
    "![title](Formula_Wyllie.png)"
   ]
  },
  {
   "cell_type": "code",
   "execution_count": null,
   "metadata": {},
   "outputs": [],
   "source": [
    "#Calculate the Porosity based on the Wyllie formula\n",
    "df[\"Porosity - Wyllie\"] = (df[\"Transit time [microsec/ft]\"]-60)/(180.5-60)\n",
    "df.head()"
   ]
  },
  {
   "cell_type": "code",
   "execution_count": null,
   "metadata": {},
   "outputs": [],
   "source": [
    "# plot the porosity\n",
    "df.plot(x = \"Porosity - Wyllie\", y = \"Depth [m]\", c='blue', lw=1, legend=False, figsize=(7,10))\n",
    "\n",
    "#plt.ylim(2130, 2200)\n",
    "#plt.xlim(0,0.25)\n",
    "\n",
    "plt.title('Porosity Plot')\n",
    "plt.gca().invert_yaxis() #invert the y axis to increase depth as we go down\n",
    "plt.show()"
   ]
  },
  {
   "cell_type": "markdown",
   "metadata": {},
   "source": [
    "### Build a function that will take the file name of the well logs as input and then it will calculate both porosity and permeability. For permeability, I have used the formula (6) from the paper : https://www.sciencedirect.com/science/article/pii/S0306261919312437#b0160"
   ]
  },
  {
   "cell_type": "code",
   "execution_count": null,
   "metadata": {},
   "outputs": [],
   "source": [
    "# Build a function that will take the file name of the well logs as input and then it will calculate both porosity\n",
    "# and permeability. For permeability, I have used the formula (6) from the paper : https://www.sciencedirect.com/science/article/pii/S0306261919312437#b0160\n",
    " \n",
    "def por_perm_function (well_log_filename):\n",
    "    \n",
    "    df = pd.read_csv(well_log_filename, header = 3, sep = '\\t')\n",
    "    df = df.rename(columns={'depth(m)':'Depth [m]', ' transit time (micron/sec)':'Transit time [microsec/meter]'})\n",
    "    df[\"Transit time [microsec/ft]\"] = df[\"Transit time [microsec/meter]\"]/3.2808399\n",
    "    df[\"Vp [ft/sec]\"] = (1/df[\"Transit time [microsec/ft]\"])*10**6\n",
    "    df[\"Porosity - Wyllie\"] = (df[\"Transit time [microsec/ft]\"]-60)/(180.5-60)*100\n",
    "    \n",
    "    # calculate permeability using the formula from the paper\n",
    "    \n",
    "    df[\"Permeability [mDa]\"] = (10**(-2.03*10**(-7)*df[\"Porosity - Wyllie\"].pow(5)+2.55*10**(-5)*df[\"Porosity - Wyllie\"].pow(4)-1.04*10**(-3)*df[\"Porosity - Wyllie\"].pow(3)+8.91*10**(-3)*df[\"Porosity - Wyllie\"].pow(2)+3.58*10**(-1)*df[\"Porosity - Wyllie\"]-3.21*df[\"Porosity - Wyllie\"].pow(0)))\n",
    "    #(10.^(-2.03*10^-7*ran.^5+2.55*10^-5*ran.^4-1.04*10^-3*ran.^3+8.91*10^-3*ran.^2+3.58*10^-1*ran-3.21*ran.^0))\n",
    "    return df"
   ]
  },
  {
   "cell_type": "code",
   "execution_count": null,
   "metadata": {},
   "outputs": [],
   "source": [
    "# apply the built function to all the well logs to calculate porosity and permeability\n",
    "wellog_p01 = por_perm_function('logs/P01_welllogs.txt')\n",
    "wellog_p02 = por_perm_function('logs/P02_welllogs.txt')\n",
    "wellog_p03 = por_perm_function('logs/P03_welllogs.txt')\n",
    "wellog_e02 = por_perm_function('logs/E02_welllogs.txt')\n",
    "wellog_e03 = por_perm_function('logs/E03_welllogs.txt')\n",
    "wellog_e05 = por_perm_function('logs/E05_welllogs.txt')\n",
    "wellog_e06 = por_perm_function('logs/E06_welllogs.txt')\n",
    "wellog_i01 = por_perm_function('logs/I01_welllogs.txt')\n",
    "wellog_i03 = por_perm_function('logs/I03_welllogs.txt')\n"
   ]
  },
  {
   "cell_type": "code",
   "execution_count": null,
   "metadata": {},
   "outputs": [],
   "source": [
    "# Plot the porosity for all the wells \n",
    "\n",
    "figure, axis = plt.subplots(3, 3,figsize=(15,30))\n",
    "\n",
    "#p01\n",
    "axis[0, 0].plot(wellog_p01[\"Porosity - Wyllie\"], wellog_p01[\"Depth [m]\"])\n",
    "axis[0, 0].set_title(\"Porosity-PO1\")\n",
    "axis[0,0].set(xlim=(0, 25))\n",
    "  \n",
    "#p02\n",
    "axis[0, 1].plot(wellog_p02[\"Porosity - Wyllie\"], wellog_p02[\"Depth [m]\"])\n",
    "axis[0, 1].set_title(\"Porosity-PO2\")\n",
    "axis[0,1].set(xlim=(0, 25))\n",
    "  \n",
    "#p03\n",
    "axis[0, 2].plot(wellog_p03[\"Porosity - Wyllie\"], wellog_p03[\"Depth [m]\"])\n",
    "axis[0, 2].set_title(\"Porosity-PO3\")\n",
    "axis[0,2].set(xlim=(0, 25))\n",
    "  \n",
    "#e02\n",
    "axis[1, 0].plot(wellog_e02[\"Porosity - Wyllie\"], wellog_e02[\"Depth [m]\"])\n",
    "axis[1, 0].set_title(\"Porosity-EO2\")\n",
    "axis[1,0].set(xlim=(0, 25))\n",
    "  \n",
    "#e03\n",
    "axis[1, 1].plot(wellog_e03[\"Porosity - Wyllie\"], wellog_e03[\"Depth [m]\"])\n",
    "axis[1, 1].set_title(\"Porosity-EO3\")\n",
    "axis[1,1].set(xlim=(0, 25))\n",
    "\n",
    "#e05\n",
    "axis[1, 2].plot(wellog_e05[\"Porosity - Wyllie\"], wellog_e05[\"Depth [m]\"])\n",
    "axis[1, 2].set_title(\"Porosity-EO5\")\n",
    "axis[1,2].set(xlim=(0, 25))\n",
    "\n",
    "#e06\n",
    "axis[2, 0].plot(wellog_e06[\"Porosity - Wyllie\"], wellog_e06[\"Depth [m]\"])\n",
    "axis[2, 0].set_title(\"Porosity-EO6\")\n",
    "axis[2,0].set(xlim=(0, 25))\n",
    "\n",
    "#I01\n",
    "axis[2, 1].plot(wellog_i01[\"Porosity - Wyllie\"], wellog_i01[\"Depth [m]\"])\n",
    "axis[2, 1].set_title(\"Porosity-I01\")\n",
    "axis[2,1].set(xlim=(0, 25))\n",
    "\n",
    "#I03\n",
    "axis[2, 2].plot(wellog_i03[\"Porosity - Wyllie\"], wellog_i03[\"Depth [m]\"])\n",
    "axis[2, 2].set_title(\"Porosity-I03\")\n",
    "axis[2,2].set(xlim=(0, 25))\n",
    "\n",
    "plt.show()"
   ]
  },
  {
   "cell_type": "code",
   "execution_count": null,
   "metadata": {},
   "outputs": [],
   "source": [
    "# plot the permeability plot for each well\n",
    "figure, axis = plt.subplots(3, 3,figsize=(15,30))\n",
    "\n",
    "#p01\n",
    "axis[0, 0].plot(wellog_p01[\"Permeability [mDa]\"], wellog_p01[\"Depth [m]\"])\n",
    "axis[0, 0].set_title(\"Permeability-PO1 [mDa]\")\n",
    "axis[0,0].set(xlim=(0, 1000))\n",
    "  \n",
    "#p02\n",
    "axis[0, 1].plot(wellog_p02[\"Permeability [mDa]\"], wellog_p02[\"Depth [m]\"])\n",
    "axis[0, 1].set_title(\"Permeability-PO2 [mDa]\")\n",
    "axis[0,1].set(xlim=(0, 1000))\n",
    "  \n",
    "#p03\n",
    "axis[0, 2].plot(wellog_p03[\"Permeability [mDa]\"], wellog_p03[\"Depth [m]\"])\n",
    "axis[0, 2].set_title(\"Permeability-PO3 [mDa]\")\n",
    "axis[0,2].set(xlim=(0, 1000))\n",
    "  \n",
    "#e02\n",
    "axis[1, 0].plot(wellog_e02[\"Permeability [mDa]\"], wellog_e02[\"Depth [m]\"])\n",
    "axis[1, 0].set_title(\"Permeability-EO2 [mDa]\")\n",
    "axis[1,0].set(xlim=(0, 1000))\n",
    "  \n",
    "#e03\n",
    "axis[1, 1].plot(wellog_e03[\"Permeability [mDa]\"], wellog_e03[\"Depth [m]\"])\n",
    "axis[1, 1].set_title(\"Permeability-EO3 [mDa]\")\n",
    "axis[1,1].set(xlim=(0, 1000))\n",
    "\n",
    "#e05\n",
    "axis[1, 2].plot(wellog_e05[\"Permeability [mDa]\"], wellog_e05[\"Depth [m]\"])\n",
    "axis[1, 2].set_title(\"Permeability-EO5 [mDa]\")\n",
    "axis[1,2].set(xlim=(0, 1000))\n",
    "\n",
    "#e06\n",
    "axis[2, 0].plot(wellog_e06[\"Permeability [mDa]\"], wellog_e06[\"Depth [m]\"])\n",
    "axis[2, 0].set_title(\"Permeability-EO6 [mDa]\")\n",
    "axis[2,0].set(xlim=(0, 1000))\n",
    "\n",
    "#I01\n",
    "axis[2, 1].plot(wellog_i01[\"Permeability [mDa]\"], wellog_i01[\"Depth [m]\"])\n",
    "axis[2, 1].set_title(\"Permeability-I01 [mDa]\")\n",
    "axis[2,1].set(xlim=(0, 1000))\n",
    "\n",
    "#I03\n",
    "axis[2, 2].plot(wellog_i03[\"Permeability [mDa]\"], wellog_i03[\"Depth [m]\"])\n",
    "axis[2, 2].set_title(\"Permeability-I03 [mDa]\")\n",
    "axis[2,2].set(xlim=(0, 1000))\n",
    "\n",
    "plt.show()"
   ]
  },
  {
   "cell_type": "code",
   "execution_count": null,
   "metadata": {},
   "outputs": [],
   "source": []
  }
 ],
 "metadata": {
  "kernelspec": {
   "display_name": "Python 3",
   "language": "python",
   "name": "python3"
  },
  "language_info": {
   "codemirror_mode": {
    "name": "ipython",
    "version": 3
   },
   "file_extension": ".py",
   "mimetype": "text/x-python",
   "name": "python",
   "nbconvert_exporter": "python",
   "pygments_lexer": "ipython3",
   "version": "3.7.4"
  }
 },
 "nbformat": 4,
 "nbformat_minor": 2
}
